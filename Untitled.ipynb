{
 "cells": [
  {
   "cell_type": "markdown",
   "metadata": {},
   "source": [
    "# Ion Switching\n",
    "---\n",
    "**Data Source: https://www.kaggle.com/c/liverpool-ion-switching/data**\n",
    "\n",
    "This data set was downloaded from Kaggle and placed in the data folder. There are 3 files, a training set, a testing set to predict and submit to kaggle with and an example submission.\n",
    "\n",
    "## Goal\n",
    "---\n",
    "This project seeks to be able to predict the number of ion channels open in a patch clamp recording. Being able to do this would be extreemly useful for the study of ion channels which are implicated in a lot of diseases. This would allow scientists to use patch clamp data with multiple channels rather than having to throw it out. Throwing out data with multiple channels in a patch leads to a lot of wasted time and resources. The idea is to make a model that is very optimized for predicting on the testing set.\n",
    "\n",
    "## Process\n",
    "---\n",
    "### Data Preparation\n",
    "- Inspect the data to see what is going on\n",
    "- Find where the signal is being drifted\n",
    "- Transform the data so the drift is no longer present\n",
    "    - First transforming by a rolling mean was used\n",
    "    - Then functions were used to transform the data (This was more succesfull)\n",
    "- Break data into different waveforms\n",
    "    1. 1 slow ion channel\n",
    "    2. 1 fast ion channel\n",
    "    3. 3 ion channels\n",
    "    4. 5 ion channels\n",
    "    5. 10 ion channels\n",
    "- Perform the same steps for the testing data\n",
    "\n",
    "### Modeling\n",
    "- 5 of the same model was made but each was trained on a unique waveform.\n",
    "- The first succesfull model was a random forest and got a score of up to 0.927 when fully optimized.\n",
    "- Using Neural networks and tuning them a macro F1 Score of 0.938\n",
    "- The hope is to find better more optimal models for getting a high macro F1 Score\n",
    "- There are many differnt models that were tested as well as attempting different ways of training the neural networks.\n",
    "- Cross validation was used to make the models perform better when applied to the testing set.\n",
    "\n",
    "\n",
    "### Evaluation\n",
    "- The model was evaluated on a Macro F1 score by submiting it to Kaggle. The score before final submission is on 30% of the test data.\n",
    "\n",
    "## Future Improvements\n",
    "---\n",
    "TODO\n",
    "\n"
   ]
  },
  {
   "cell_type": "markdown",
   "metadata": {},
   "source": []
  },
  {
   "cell_type": "markdown",
   "metadata": {},
   "source": []
  },
  {
   "cell_type": "markdown",
   "metadata": {},
   "source": []
  }
 ],
 "metadata": {
  "kernelspec": {
   "display_name": "Python (ion-env)",
   "language": "python",
   "name": "ion-env"
  },
  "language_info": {
   "codemirror_mode": {
    "name": "ipython",
    "version": 3
   },
   "file_extension": ".py",
   "mimetype": "text/x-python",
   "name": "python",
   "nbconvert_exporter": "python",
   "pygments_lexer": "ipython3",
   "version": "3.8.2"
  }
 },
 "nbformat": 4,
 "nbformat_minor": 4
}
